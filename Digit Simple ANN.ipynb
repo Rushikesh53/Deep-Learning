{
 "cells": [
  {
   "cell_type": "code",
   "execution_count": 1,
   "id": "f57be9e9-5f9f-4d63-9ec4-570f6fe41377",
   "metadata": {},
   "outputs": [],
   "source": [
    "from sklearn import datasets\n",
    "x, y = datasets.make_blobs(n_samples=150,n_features=2, centers=2,cluster_std=1.05,random_state=2)"
   ]
  },
  {
   "cell_type": "code",
   "execution_count": 2,
   "id": "37bb8c05-303f-40e5-95c8-2ef8dc9456ba",
   "metadata": {},
   "outputs": [],
   "source": [
    "import tensorflow as tf"
   ]
  },
  {
   "cell_type": "code",
   "execution_count": 3,
   "id": "90b3358c-0002-41cc-a3eb-695e1c1fac81",
   "metadata": {},
   "outputs": [],
   "source": [
    "from keras.datasets import mnist"
   ]
  },
  {
   "cell_type": "code",
   "execution_count": 4,
   "id": "f123a3e9-b309-48c3-8087-c8243deabe14",
   "metadata": {},
   "outputs": [],
   "source": [
    "(x_train, y_train),(x_test, y_test) = mnist.load_data()"
   ]
  },
  {
   "cell_type": "code",
   "execution_count": 5,
   "id": "94184e4f-41ae-4106-b90a-8d038dbc2d4d",
   "metadata": {},
   "outputs": [
    {
     "name": "stdout",
     "output_type": "stream",
     "text": [
      "x_train shape (60000, 28, 28)\n",
      "y_train shape (60000,)\n",
      "x_test shape (10000, 28, 28)\n",
      "y_test shape (10000,)\n"
     ]
    }
   ],
   "source": [
    "print(\"x_train shape\", x_train.shape)\n",
    "print(\"y_train shape\", y_train.shape)\n",
    "print(\"x_test shape\", x_test.shape)\n",
    "print(\"y_test shape\", y_test.shape)"
   ]
  },
  {
   "cell_type": "code",
   "execution_count": 6,
   "id": "90a785cd-b48f-4783-b68f-8991d8d90c72",
   "metadata": {},
   "outputs": [],
   "source": [
    "import numpy as np"
   ]
  },
  {
   "cell_type": "code",
   "execution_count": 7,
   "id": "514d3ee1-c872-4973-805f-4f4712eb98ca",
   "metadata": {},
   "outputs": [],
   "source": [
    "import matplotlib.pyplot as plt"
   ]
  },
  {
   "cell_type": "code",
   "execution_count": 8,
   "id": "de87a7e5-bf08-48c8-895b-5b1662a7e701",
   "metadata": {},
   "outputs": [
    {
     "data": {
      "text/plain": [
       "<matplotlib.image.AxesImage at 0x160e17d71c0>"
      ]
     },
     "execution_count": 8,
     "metadata": {},
     "output_type": "execute_result"
    },
    {
     "data": {
      "image/png": "[encoded data removed]",
      "text/plain": [
       "<Figure size 640x480 with 1 Axes>"
      ]
     },
     "metadata": {},
     "output_type": "display_data"
    }
   ],
   "source": [
    "plt.imshow(x_train[1], cmap='binary')"
   ]
  },
  {
   "cell_type": "code",
   "execution_count": 9,
   "id": "15fec7e6-eea1-4fc5-96ff-efecaac03eed",
   "metadata": {},
   "outputs": [
    {
     "name": "stdout",
     "output_type": "stream",
     "text": [
      "{0, 1, 2, 3, 4, 5, 6, 7, 8, 9}\n"
     ]
    }
   ],
   "source": [
    "print(set(y_train))"
   ]
  },
  {
   "cell_type": "code",
   "execution_count": 10,
   "id": "85b93dda-56e2-47e3-8838-818e8ccc3fa6",
   "metadata": {},
   "outputs": [],
   "source": [
    "from keras.utils import to_categorical\n",
    "y_train_encoded = to_categorical(y_train)\n",
    "y_test_encoded = to_categorical(y_test)"
   ]
  },
  {
   "cell_type": "code",
   "execution_count": 11,
   "id": "968dce30-c1f7-4be8-ade7-8a38e524891e",
   "metadata": {},
   "outputs": [
    {
     "name": "stdout",
     "output_type": "stream",
     "text": [
      "y_train encoded shape  (60000, 10)\n",
      "y_test encoded shape  (10000, 10)\n"
     ]
    }
   ],
   "source": [
    "print(\"y_train encoded shape \", y_train_encoded.shape)\n",
    "print(\"y_test encoded shape \", y_test_encoded.shape)"
   ]
  },
  {
   "cell_type": "code",
   "execution_count": 12,
   "id": "2052cfc9-da35-420c-961f-8a7c67ee5e77",
   "metadata": {},
   "outputs": [],
   "source": [
    "# preprocessing\n",
    "x_train_reshaped = np.reshape(x_train, (60000, 784))\n",
    "x_test_reshaped = np.reshape(x_test, (10000, 784))"
   ]
  },
  {
   "cell_type": "code",
   "execution_count": 13,
   "id": "3894cebf-d559-4800-8b51-2daa6bf89a2b",
   "metadata": {},
   "outputs": [
    {
     "name": "stdout",
     "output_type": "stream",
     "text": [
      "(60000, 784)\n",
      "\n"
     ]
    }
   ],
   "source": [
    "print(x_train_reshaped.shape)\n",
    "print()"
   ]
  },
  {
   "cell_type": "code",
   "execution_count": 14,
   "id": "086a4353-a2a7-44c0-8c4a-00d327851079",
   "metadata": {},
   "outputs": [
    {
     "name": "stdout",
     "output_type": "stream",
     "text": [
      "{0, 1, 2, 3, 9, 11, 14, 16, 18, 23, 24, 25, 26, 27, 30, 35, 36, 39, 43, 45, 46, 49, 55, 56, 64, 66, 70, 78, 80, 81, 82, 90, 93, 94, 107, 108, 114, 119, 126, 127, 130, 132, 133, 135, 136, 139, 148, 150, 154, 156, 160, 166, 170, 171, 172, 175, 182, 183, 186, 187, 190, 195, 198, 201, 205, 207, 212, 213, 219, 221, 225, 226, 229, 238, 240, 241, 242, 244, 247, 249, 250, 251, 252, 253, 255}\n"
     ]
    }
   ],
   "source": [
    "# display pixel value\n",
    "print(set(x_train_reshaped[0]))"
   ]
  },
  {
   "cell_type": "code",
   "execution_count": 15,
   "id": "02b427cf-5d68-4176-84d6-bf7a63635f19",
   "metadata": {},
   "outputs": [],
   "source": [
    "# Data normalization\n",
    "import math\n",
    "x_mean = np.mean(x_train_reshaped)\n",
    "x_std = np.std(x_train_reshaped)\n",
    "epsilon = pow(math.e,-10)"
   ]
  },
  {
   "cell_type": "code",
   "execution_count": 16,
   "id": "1bfc84bc-d698-46d6-97d2-24a5095779f3",
   "metadata": {},
   "outputs": [],
   "source": [
    "x_train_norm=(x_train_reshaped-x_mean)/(x_std+epsilon)"
   ]
  },
  {
   "cell_type": "code",
   "execution_count": 17,
   "id": "583099b9-4112-470b-9c3e-0462dc27b44b",
   "metadata": {},
   "outputs": [],
   "source": [
    "x_test_norm=(x_test_reshaped-x_mean)/(x_std+epsilon)"
   ]
  },
  {
   "cell_type": "code",
   "execution_count": 18,
   "id": "ca153abf-0fe6-4bda-9e0d-9b8c92f30fd6",
   "metadata": {},
   "outputs": [],
   "source": [
    "#Creating a model\n",
    "from tensorflow.keras.models import Sequential\n",
    "from tensorflow.keras.layers import Dense\n",
    "model=Sequential()\n",
    "model.add(Dense(128,activation='relu',input_shape=(784,)))\n",
    "model.add(Dense(128,activation='relu'))\n",
    "model.add(Dense(10,activation='softmax'))"
   ]
  },
  {
   "cell_type": "code",
   "execution_count": 19,
   "id": "4fa21833-0621-4efb-86aa-708ed882da10",
   "metadata": {},
   "outputs": [
    {
     "name": "stdout",
     "output_type": "stream",
     "text": [
      "Epoch 1/3\n",
      "1875/1875 [==============================] - 10s 5ms/step - loss: 0.3794 - accuracy: 0.8892\n",
      "Epoch 2/3\n",
      "1875/1875 [==============================] - 8s 4ms/step - loss: 0.1833 - accuracy: 0.9473\n",
      "Epoch 3/3\n",
      "1875/1875 [==============================] - 10s 6ms/step - loss: 0.1394 - accuracy: 0.9595\n"
     ]
    },
    {
     "data": {
      "text/plain": [
       "<keras.src.callbacks.History at 0x160e4f23910>"
      ]
     },
     "execution_count": 19,
     "metadata": {},
     "output_type": "execute_result"
    }
   ],
   "source": [
    "#compiling model\n",
    "model.compile(optimizer='sgd',loss='categorical_crossentropy',metrics=['accuracy'])\n",
    "#Training the model\n",
    "model.fit(x_train_norm , y_train_encoded,epochs=3)"
   ]
  },
  {
   "cell_type": "code",
   "execution_count": 20,
   "id": "e1c1324e-7d1f-4f34-a809-3ffb0bf7ce63",
   "metadata": {},
   "outputs": [
    {
     "name": "stdout",
     "output_type": "stream",
     "text": [
      "313/313 [==============================] - 2s 4ms/step - loss: 0.1301 - accuracy: 0.9615\n",
      "Testset Accuracy= 96.14999890327454\n"
     ]
    }
   ],
   "source": [
    "#Evaluating the model\n",
    "loss,accuracy=model.evaluate(x_test_norm,y_test_encoded)\n",
    "print('Testset Accuracy=',accuracy*100)"
   ]
  },
  {
   "cell_type": "code",
   "execution_count": 21,
   "id": "28eb8acc-ce2f-4fd6-a87f-869c09813c9a",
   "metadata": {},
   "outputs": [
    {
     "name": "stdout",
     "output_type": "stream",
     "text": [
      "313/313 [==============================] - 1s 3ms/step\n"
     ]
    },
    {
     "data": {
      "text/plain": [
       "array([[2.3594015e-05, 5.7791965e-07, 3.2958610e-04, ..., 9.9788088e-01,\n",
       "        1.7757984e-05, 3.0317786e-04],\n",
       "       [3.5060816e-06, 1.0878958e-03, 9.9831992e-01, ..., 1.2258293e-08,\n",
       "        9.5096417e-05, 8.3933438e-10],\n",
       "       [1.4453090e-05, 9.9587858e-01, 1.4435996e-03, ..., 1.2344464e-03,\n",
       "        7.4875104e-04, 1.5683527e-04],\n",
       "       ...,\n",
       "       [5.6926922e-08, 2.5307708e-08, 7.6317673e-07, ..., 2.7673217e-05,\n",
       "        3.7766051e-05, 2.1812784e-04],\n",
       "       [1.7637996e-05, 9.4715782e-05, 1.3850177e-05, ..., 4.4495664e-06,\n",
       "        8.5148541e-03, 1.7420864e-06],\n",
       "       [2.2701784e-05, 2.8755315e-08, 4.3650092e-05, ..., 3.4987924e-08,\n",
       "        1.8294662e-06, 3.6415216e-08]], dtype=float32)"
      ]
     },
     "execution_count": 21,
     "metadata": {},
     "output_type": "execute_result"
    }
   ],
   "source": [
    "model.predict([x_test_norm])"
   ]
  },
  {
   "cell_type": "code",
   "execution_count": 23,
   "id": "44eefaa0-2f04-44a5-9b4c-887154913bc9",
   "metadata": {},
   "outputs": [
    {
     "data": {
      "text/plain": [
       "<matplotlib.image.AxesImage at 0x160dd6d7e20>"
      ]
     },
     "execution_count": 23,
     "metadata": {},
     "output_type": "execute_result"
    },
    {
     "data": {
      "image/png": "[encoded data removed]",
      "text/plain": [
       "<Figure size 640x480 with 1 Axes>"
      ]
     },
     "metadata": {},
     "output_type": "display_data"
    }
   ],
   "source": [
    "import matplotlib.pyplot as plt\n",
    "plt.imshow(x_test[0], cmap='binary')"
   ]
  },
  {
   "cell_type": "code",
   "execution_count": null,
   "id": "610b71dd-bb38-42bc-8798-fd26dbb4c578",
   "metadata": {},
   "outputs": [],
   "source": []
  }
 ],
 "metadata": {
  "kernelspec": {
   "display_name": "Python 3 (ipykernel)",
   "language": "python",
   "name": "python3"
  },
  "language_info": {
   "codemirror_mode": {
    "name": "ipython",
    "version": 3
   },
   "file_extension": ".py",
   "mimetype": "text/x-python",
   "name": "python",
   "nbconvert_exporter": "python",
   "pygments_lexer": "ipython3",
   "version": "3.8.0"
  }
 },
 "nbformat": 4,
 "nbformat_minor": 5
}
