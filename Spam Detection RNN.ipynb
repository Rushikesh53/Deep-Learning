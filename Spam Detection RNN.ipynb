{
 "cells": [
  {
   "cell_type": "code",
   "execution_count": 1,
   "id": "771d10a4-20f8-4489-af4d-b0652153f208",
   "metadata": {},
   "outputs": [],
   "source": [
    "import numpy as np\n",
    "import pandas as pd\n",
    "from tensorflow.keras.preprocessing.text import Tokenizer\n",
    "from tensorflow.keras.preprocessing.sequence import pad_sequences\n",
    "from tensorflow.keras.models import Sequential\n",
    "from tensorflow.keras.layers import Embedding, LSTM, Dense\n",
    "from sklearn.model_selection import train_test_split\n",
    "from sklearn.metrics import accuracy_score, classification_report"
   ]
  },
  {
   "cell_type": "code",
   "execution_count": 2,
   "id": "afdcaee3-ca61-4230-952b-f7c796b4079a",
   "metadata": {},
   "outputs": [],
   "source": [
    "df = pd.read_csv('spam2.csv', encoding='ISO-8859-1')"
   ]
  },
  {
   "cell_type": "code",
   "execution_count": 3,
   "id": "3905bda4-d1fe-46f6-9d74-b9f10d181aaa",
   "metadata": {},
   "outputs": [
    {
     "data": {
      "text/html": [
       "<div>\n",
       "<style scoped>\n",
       "    .dataframe tbody tr th:only-of-type {\n",
       "        vertical-align: middle;\n",
       "    }\n",
       "\n",
       "    .dataframe tbody tr th {\n",
       "        vertical-align: top;\n",
       "    }\n",
       "\n",
       "    .dataframe thead th {\n",
       "        text-align: right;\n",
       "    }\n",
       "</style>\n",
       "<table border=\"1\" class=\"dataframe\">\n",
       "  <thead>\n",
       "    <tr style=\"text-align: right;\">\n",
       "      <th></th>\n",
       "      <th>Category</th>\n",
       "      <th>Message</th>\n",
       "    </tr>\n",
       "  </thead>\n",
       "  <tbody>\n",
       "    <tr>\n",
       "      <th>0</th>\n",
       "      <td>ham</td>\n",
       "      <td>Go until jurong point, crazy.. Available only ...</td>\n",
       "    </tr>\n",
       "    <tr>\n",
       "      <th>1</th>\n",
       "      <td>ham</td>\n",
       "      <td>Ok lar... Joking wif u oni...</td>\n",
       "    </tr>\n",
       "    <tr>\n",
       "      <th>2</th>\n",
       "      <td>spam</td>\n",
       "      <td>Free entry in 2 a wkly comp to win FA Cup fina...</td>\n",
       "    </tr>\n",
       "    <tr>\n",
       "      <th>3</th>\n",
       "      <td>ham</td>\n",
       "      <td>U dun say so early hor... U c already then say...</td>\n",
       "    </tr>\n",
       "    <tr>\n",
       "      <th>4</th>\n",
       "      <td>ham</td>\n",
       "      <td>Nah I don't think he goes to usf, he lives aro...</td>\n",
       "    </tr>\n",
       "  </tbody>\n",
       "</table>\n",
       "</div>"
      ],
      "text/plain": [
       "  Category                                            Message\n",
       "0      ham  Go until jurong point, crazy.. Available only ...\n",
       "1      ham                      Ok lar... Joking wif u oni...\n",
       "2     spam  Free entry in 2 a wkly comp to win FA Cup fina...\n",
       "3      ham  U dun say so early hor... U c already then say...\n",
       "4      ham  Nah I don't think he goes to usf, he lives aro..."
      ]
     },
     "execution_count": 3,
     "metadata": {},
     "output_type": "execute_result"
    }
   ],
   "source": [
    "df.head()"
   ]
  },
  {
   "cell_type": "code",
   "execution_count": 4,
   "id": "0822f08f-338f-4d75-83a6-cc78498f4a9f",
   "metadata": {},
   "outputs": [],
   "source": [
    "max_words = 1000\n",
    "max_len = 150"
   ]
  },
  {
   "cell_type": "code",
   "execution_count": 5,
   "id": "b0d40b78-4fa8-4252-9419-6eae5b132796",
   "metadata": {},
   "outputs": [],
   "source": [
    "tokenizer = Tokenizer(num_words=max_words, oov_token='<OOV>')\n",
    "tokenizer.fit_on_texts(df['Message'])"
   ]
  },
  {
   "cell_type": "code",
   "execution_count": 6,
   "id": "b781cd34-d2c3-4a67-8246-edf34851af21",
   "metadata": {},
   "outputs": [],
   "source": [
    "X = tokenizer.texts_to_sequences(df['Message'])\n",
    "X = pad_sequences(X, maxlen=max_len)"
   ]
  },
  {
   "cell_type": "code",
   "execution_count": 7,
   "id": "0d99f73b-9325-411d-ab0c-e27d01e0094b",
   "metadata": {},
   "outputs": [],
   "source": [
    "y = np.array(df['Category'].map({'ham': 0, 'spam': 1}))"
   ]
  },
  {
   "cell_type": "code",
   "execution_count": 10,
   "id": "cc721a27-9209-4c0c-91fb-202f2bfbbf79",
   "metadata": {},
   "outputs": [],
   "source": [
    "# Split the dataset into training and testing sets\n",
    "X_train, X_test, y_train, y_test = train_test_split(X, y, test_size=0.2, random_state=42)\n"
   ]
  },
  {
   "cell_type": "code",
   "execution_count": 11,
   "id": "9469d106-4e2f-464d-843c-d108d0ed2672",
   "metadata": {},
   "outputs": [],
   "source": [
    "# Build the LSTM model\n",
    "embedding_dim = 50  # Dimension of the word embeddings\n",
    "model = Sequential()\n",
    "model.add(Embedding(input_dim=max_words, output_dim=embedding_dim, input_length=max_len))\n",
    "model.add(LSTM(units=50, activation='relu'))\n",
    "model.add(Dense(units=1, activation='sigmoid'))\n",
    "model.compile(optimizer='adam', loss='binary_crossentropy', metrics=['accuracy'])"
   ]
  },
  {
   "cell_type": "code",
   "execution_count": 12,
   "id": "f8aaf816-94b1-4625-9f3a-5ba09a426bda",
   "metadata": {},
   "outputs": [
    {
     "name": "stdout",
     "output_type": "stream",
     "text": [
      "Epoch 1/5\n",
      "140/140 [==============================] - 10s 57ms/step - loss: 3.5547 - accuracy: 0.8517 - val_loss: 0.4451 - val_accuracy: 0.9040\n",
      "Epoch 2/5\n",
      "140/140 [==============================] - 9s 65ms/step - loss: 3615701336064.0000 - accuracy: 0.9484 - val_loss: 0.3673 - val_accuracy: 0.9865\n",
      "Epoch 3/5\n",
      "140/140 [==============================] - 10s 69ms/step - loss: 0.3463 - accuracy: 0.9762 - val_loss: 0.3046 - val_accuracy: 0.9865\n",
      "Epoch 4/5\n",
      "140/140 [==============================] - 9s 64ms/step - loss: 58.8784 - accuracy: 0.9785 - val_loss: 0.2521 - val_accuracy: 0.9857\n",
      "Epoch 5/5\n",
      "140/140 [==============================] - 9s 63ms/step - loss: 0.2347 - accuracy: 0.9785 - val_loss: 0.4620 - val_accuracy: 0.9839\n"
     ]
    },
    {
     "data": {
      "text/plain": [
       "<keras.src.callbacks.History at 0x203417e1b20>"
      ]
     },
     "execution_count": 12,
     "metadata": {},
     "output_type": "execute_result"
    }
   ],
   "source": [
    "model.fit(X_train, y_train, epochs=5, batch_size=32, validation_data=(X_test, y_test))"
   ]
  },
  {
   "cell_type": "code",
   "execution_count": 13,
   "id": "54f7388e-3ca7-4e9b-b600-961a72e7dbc0",
   "metadata": {},
   "outputs": [
    {
     "name": "stdout",
     "output_type": "stream",
     "text": [
      "35/35 [==============================] - 1s 20ms/step\n"
     ]
    }
   ],
   "source": [
    "# Evaluate the model\n",
    "y_pred_prob = model.predict(X_test)\n",
    "y_pred = np.round(y_pred_prob).astype(int)  # Convert probabilities to binary predictions"
   ]
  },
  {
   "cell_type": "code",
   "execution_count": 14,
   "id": "a83d18d3-3b53-4aed-81d2-11372971162c",
   "metadata": {},
   "outputs": [
    {
     "name": "stdout",
     "output_type": "stream",
     "text": [
      "Accuracy: 0.9838565022421525\n"
     ]
    }
   ],
   "source": [
    "# Calculate accuracy\n",
    "accuracy = accuracy_score(y_test, y_pred)\n",
    "print(f'Accuracy: {accuracy}')"
   ]
  },
  {
   "cell_type": "code",
   "execution_count": 15,
   "id": "dc88d8ce-306f-4c81-86d5-6f4eaba17837",
   "metadata": {},
   "outputs": [
    {
     "name": "stdout",
     "output_type": "stream",
     "text": [
      "              precision    recall  f1-score   support\n",
      "\n",
      "           0       0.98      1.00      0.99       966\n",
      "           1       0.98      0.90      0.94       149\n",
      "\n",
      "    accuracy                           0.98      1115\n",
      "   macro avg       0.98      0.95      0.96      1115\n",
      "weighted avg       0.98      0.98      0.98      1115\n",
      "\n"
     ]
    }
   ],
   "source": [
    "# Display classification report\n",
    "print(classification_report(y_test, y_pred))"
   ]
  },
  {
   "cell_type": "code",
   "execution_count": 21,
   "id": "2a04e4ca-3edf-4bb9-80fd-351ffc918136",
   "metadata": {},
   "outputs": [
    {
     "name": "stdout",
     "output_type": "stream",
     "text": [
      "Messages and Predicted Labels:\n",
      "Message: Go until jurong point, crazy.. Available only in bugis n great world la e buffet... Cine there got amore wat... - Actual Label: ham - Predicted Label: ham\n",
      "Message: Ok lar... Joking wif u oni... - Actual Label: ham - Predicted Label: ham\n",
      "Message: Free entry in 2 a wkly comp to win FA Cup final tkts 21st May 2005. Text FA to 87121 to receive entry question(std txt rate)T&C's apply 08452810075over18's - Actual Label: ham - Predicted Label: ham\n",
      "Message: U dun say so early hor... U c already then say... - Actual Label: ham - Predicted Label: ham\n",
      "Message: Nah I don't think he goes to usf, he lives around here though - Actual Label: ham - Predicted Label: ham\n",
      "Message: FreeMsg Hey there darling it's been 3 week's now and no word back! I'd like some fun you up for it still? Tb ok! XxX std chgs to send, Â£1.50 to rcv - Actual Label: ham - Predicted Label: ham\n",
      "Message: Even my brother is not like to speak with me. They treat me like aids patent. - Actual Label: ham - Predicted Label: ham\n",
      "Message: As per your request 'Melle Melle (Oru Minnaminunginte Nurungu Vettam)' has been set as your callertune for all Callers. Press *9 to copy your friends Callertune - Actual Label: ham - Predicted Label: ham\n",
      "Message: WINNER!! As a valued network customer you have been selected to receivea Â£900 prize reward! To claim call 09061701461. Claim code KL341. Valid 12 hours only. - Actual Label: ham - Predicted Label: ham\n",
      "Message: Had your mobile 11 months or more? U R entitled to Update to the latest colour mobiles with camera for Free! Call The Mobile Update Co FREE on 08002986030 - Actual Label: ham - Predicted Label: ham\n",
      "Message: I'm gonna be home soon and i don't want to talk about this stuff anymore tonight, k? I've cried enough today. - Actual Label: ham - Predicted Label: ham\n",
      "Message: SIX chances to win CASH! From 100 to 20,000 pounds txt> CSH11 and send to 87575. Cost 150p/day, 6days, 16+ TsandCs apply Reply HL 4 info - Actual Label: ham - Predicted Label: ham\n",
      "Message: URGENT! You have won a 1 week FREE membership in our Â£100,000 Prize Jackpot! Txt the word: CLAIM to No: 81010 T&C www.dbuk.net LCCLTD POBOX 4403LDNW1A7RW18 - Actual Label: ham - Predicted Label: ham\n",
      "Message: I've been searching for the right words to thank you for this breather. I promise i wont take your help for granted and will fulfil my promise. You have been wonderful and a blessing at all times. - Actual Label: ham - Predicted Label: ham\n",
      "Message: I HAVE A DATE ON SUNDAY WITH WILL!! - Actual Label: spam - Predicted Label: spam\n",
      "Message: XXXMobileMovieClub: To use your credit, click the WAP link in the next txt message or click here>> http://wap. xxxmobilemovieclub.com?n=QJKGIGHJJGCBL - Actual Label: ham - Predicted Label: ham\n",
      "Message: Oh k...i'm watching here:) - Actual Label: ham - Predicted Label: ham\n",
      "Message: Eh u remember how 2 spell his name... Yes i did. He v naughty make until i v wet. - Actual Label: ham - Predicted Label: ham\n",
      "Message: Fine if thatÂs the way u feel. ThatÂs the way its gota b - Actual Label: ham - Predicted Label: ham\n",
      "Message: England v Macedonia - dont miss the goals/team news. Txt ur national team to 87077 eg ENGLAND to 87077 Try:WALES, SCOTLAND 4txt/Ãº1.20 POBOXox36504W45WQ 16+ - Actual Label: ham - Predicted Label: ham\n"
     ]
    }
   ],
   "source": [
    "# Print messages and their corresponding labels\n",
    "print(\"Messages and Predicted Labels:\")\n",
    "for i in range(20):\n",
    "    message = df.loc[i, 'Message']\n",
    "    label = y_test[i]\n",
    "    pred_label = y_pred[i]\n",
    "    print(f\"Message: {message} - Actual Label: {'ham' if label == 0 else 'spam'} - Predicted Label: {'ham' if pred_label == 0 else 'spam'}\")"
   ]
  },
  {
   "cell_type": "code",
   "execution_count": 22,
   "id": "1bafd228-2ae0-4e35-9714-d921bdbc3fe1",
   "metadata": {},
   "outputs": [
    {
     "name": "stdout",
     "output_type": "stream",
     "text": [
      "Accuracy: 0.9838565022421525\n",
      "              precision    recall  f1-score   support\n",
      "\n",
      "           0       0.98      1.00      0.99       966\n",
      "           1       0.98      0.90      0.94       149\n",
      "\n",
      "    accuracy                           0.98      1115\n",
      "   macro avg       0.98      0.95      0.96      1115\n",
      "weighted avg       0.98      0.98      0.98      1115\n",
      "\n"
     ]
    }
   ],
   "source": [
    "# Calculate accuracy\n",
    "accuracy = accuracy_score(y_test, y_pred)\n",
    "print(f'Accuracy: {accuracy}')\n",
    "\n",
    "# Display classification report\n",
    "print(classification_report(y_test, y_pred))"
   ]
  }
 ],
 "metadata": {
  "kernelspec": {
   "display_name": "Python 3 (ipykernel)",
   "language": "python",
   "name": "python3"
  },
  "language_info": {
   "codemirror_mode": {
    "name": "ipython",
    "version": 3
   },
   "file_extension": ".py",
   "mimetype": "text/x-python",
   "name": "python",
   "nbconvert_exporter": "python",
   "pygments_lexer": "ipython3",
   "version": "3.8.0"
  }
 },
 "nbformat": 4,
 "nbformat_minor": 5
}
